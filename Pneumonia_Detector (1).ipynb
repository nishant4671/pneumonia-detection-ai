# Pneumonia Detection Notebook

This Jupyter notebook contains the complete implementation of a Convolutional Neural Network (CNN) for pneumonia detection from chest X-rays.

## Key Steps:
1. Data loading and preprocessing
2. Model architecture design
3. Training with class weighting
4. Model evaluation
5. Grad-CAM implementation for model interpretation

## Results:
Achieved 79.5% test accuracy with detailed performance metrics.
